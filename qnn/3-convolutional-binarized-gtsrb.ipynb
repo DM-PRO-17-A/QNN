{
 "cells": [
  {
   "cell_type": "markdown",
   "metadata": {},
   "source": [
    "# A Convolutional Binarized Network\n",
    "\n",
    "We will now move on to *convolutional QNNs*, which will include some new types of layers: convolution and pooling. These networks have excellent performance on data that has some [locality](https://en.wikipedia.org/wiki/Locality_of_reference), such as images, video and sound.\n",
    "\n",
    "## New Challenge: Recognizing Traffic Signs\n",
    "\n",
    "The example network we will be looking at is still going to be binarized (using -1 and +1 for weights and activations, with a little exception on the first layer), butit will do something slightly more exciting than classifying black-and-white handwritten digits. It will classify 32x32 color images of traffic signs from the [German Traffic Sign Recognition Benchmark](http://benchmark.ini.rub.de/?section=gtsrb&subsection=news). \n",
    "\n",
    "The tutorial comes with four example images from the GTSRB test set:"
   ]
  },
  {
   "cell_type": "code",
   "execution_count": 25,
   "metadata": {},
   "outputs": [
    {
     "data": {
      "image/png": "[encoded data removed]",
      "text/plain": [
       "<PIL.Image.Image image mode=RGB size=32x32 at 0x7F2C26F87210>"
      ]
     },
     "metadata": {},
     "output_type": "display_data"
    },
    {
     "data": {
      "image/png": "[encoded data removed]",
      "text/plain": [
       "<PIL.Image.Image image mode=RGB size=32x32 at 0x7F2C2718B110>"
      ]
     },
     "metadata": {},
     "output_type": "display_data"
    },
    {
     "data": {
      "image/png": "[encoded data removed]",
      "text/plain": [
       "<PIL.Image.Image image mode=RGB size=32x32 at 0x7F2C2718B210>"
      ]
     },
     "metadata": {},
     "output_type": "display_data"
    },
    {
     "data": {
      "image/png": "[encoded data removed]",
      "text/plain": [
       "<PIL.Image.Image image mode=RGB size=32x32 at 0x7F2C2718B110>"
      ]
     },
     "metadata": {},
     "output_type": "display_data"
    },
    {
     "name": "stdout",
     "output_type": "stream",
     "text": [
      "(3, 32, 32)\n"
     ]
    }
   ],
   "source": [
    "from PIL import Image\n",
    "import matplotlib.pyplot as plt\n",
    "import numpy as np\n",
    "from IPython.display import display\n",
    "\n",
    "# define a small utility function to first display, then prepare the\n",
    "# images for classification\n",
    "def prepare_gtsrb(img):\n",
    "    # make sure the image is the size expected by the network\n",
    "    img = img.resize((32, 32))\n",
    "    display(img)\n",
    "    # convert to numpy array\n",
    "    img = np.asarray(img)\n",
    "    # we need the data layout to be (channels, rows, columns)\n",
    "    # but it comes in (rows, columns, channels) format, so we\n",
    "    # need to transpose the axes:\n",
    "    img = img.transpose((2, 0, 1))\n",
    "    # finally, our network is trained with BGR instead of RGB images,\n",
    "    # so we need to invert the order of channels in the channel axis:\n",
    "    img = img[::-1, :, :]\n",
    "    return img\n",
    "\n",
    "# load test images and prepare them\n",
    "img_50 = prepare_gtsrb(Image.open(\"gtsrb_images/50.jpg\"))\n",
    "img_stop = prepare_gtsrb(Image.open(\"gtsrb_images/stop.jpg\"))\n",
    "img_left = prepare_gtsrb(Image.open(\"gtsrb_images/left.jpg\"))\n",
    "img_right = prepare_gtsrb(Image.open(\"gtsrb_images/right.jpg\"))\n",
    "\n",
    "# print the shape of one of the images to make sure it's correct\n",
    "print(img_50.shape)"
   ]
  },
  {
   "cell_type": "markdown",
   "metadata": {},
   "source": [
    "Notice how we did some preprocessing inside the prepare_gtsrb function -- resizing the images to be the correct size expected by the network, converting and transposing to a numpy array, then flipping the color axis to be ordered as BGR instead of RGB. Why did we have to do this last part? This is all about assumptions:\n",
    "\n",
    "1. The layer implementations we have in Python assume that color images have the color (channel) dimension as the first dimension, so this is why we need to transpose.\n",
    "2. This particular network is trained with the assumption that the order of color channels is blue-green-red, but the loaded images use red-green-blue ordering, so this is why we need to flip the order of elements in the color axis.\n",
    "\n",
    "But besides this little change in how we loaded the images, loading the network itself will be exactly as before:"
   ]
  },
  {
   "cell_type": "code",
   "execution_count": 26,
   "metadata": {},
   "outputs": [
    {
     "data": {
      "text/plain": [
       "[<QNN.layers.QNNConvolutionLayer at 0x7f2c27104890>,\n",
       " <QNN.layers.QNNBipolarThresholdingLayer at 0x7f2c271047d0>,\n",
       " <QNN.layers.QNNPoolingLayer at 0x7f2c27104950>,\n",
       " <QNN.layers.QNNConvolutionLayer at 0x7f2c27104990>,\n",
       " <QNN.layers.QNNBipolarThresholdingLayer at 0x7f2c27104a10>,\n",
       " <QNN.layers.QNNPoolingLayer at 0x7f2c271048d0>,\n",
       " <QNN.layers.QNNFullyConnectedLayer at 0x7f2c27101a50>,\n",
       " <QNN.layers.QNNScaleShiftLayer at 0x7f2c27101790>,\n",
       " <QNN.layers.QNNSoftmaxLayer at 0x7f2c271017d0>]"
      ]
     },
     "execution_count": 26,
     "metadata": {},
     "output_type": "execute_result"
    }
   ],
   "source": [
    "from QNN.layers import *\n",
    "import pickle\n",
    "\n",
    "# load the QNN\n",
    "qnn = pickle.load(open(\"gtsrb-w1a1.pickle\", \"rb\"))\n",
    "qnn"
   ]
  },
  {
   "cell_type": "markdown",
   "metadata": {},
   "source": [
    "OK, let's give it a whirl and see if it works! This particular network can recognize 43 different traffic signs, and (just as the previous networks) will indicate its prediction as the largest-valued element of a 43-dimensional vector. But how do we know which class corresponds to which vector index? That information comes from the GTSRB dataset itself."
   ]
  },
  {
   "cell_type": "code",
   "execution_count": 27,
   "metadata": {},
   "outputs": [
    {
     "name": "stdout",
     "output_type": "stream",
     "text": [
      "The QNN predicts this is a 50 Km/h sign with 96.196610 percent probability\n",
      "The QNN predicts this is a Stop sign with 99.978381 percent probability\n",
      "The QNN predicts this is a Turn left ahead sign with 99.998236 percent probability\n",
      "The QNN predicts this is a Turn right ahead sign with 99.953973 percent probability\n"
     ]
    }
   ],
   "source": [
    "gtsrb_classes = ['20 Km/h', '30 Km/h', '50 Km/h', '60 Km/h', '70 Km/h', '80 Km/h', 'End 80 Km/h', '100 Km/h', '120 Km/h', 'No overtaking', 'No overtaking for large trucks', 'Priority crossroad', 'Priority road', 'Give way', 'Stop', 'No vehicles', 'Prohibited for vehicles with a permitted gross weight over 3.5t including their trailers, and for tractors except passenger cars and buses', 'No entry for vehicular traffic', 'Danger Ahead', 'Bend to left', 'Bend to right', 'Double bend (first to left)', 'Uneven road', 'Road slippery when wet or dirty', 'Road narrows (right)', 'Road works', 'Traffic signals', 'Pedestrians in road ahead', 'Children crossing ahead', 'Bicycles prohibited', 'Risk of snow or ice', 'Wild animals', 'End of all speed and overtaking restrictions', 'Turn right ahead', 'Turn left ahead', 'Ahead only', 'Ahead or right only', 'Ahead or left only', 'Pass by on right', 'Pass by on left', 'Roundabout', 'End of no-overtaking zone', 'End of no-overtaking zone for vehicles with a permitted gross weight over 3.5t including their trailers, and for tractors except passenger cars and buses']\n",
    "\n",
    "def gtsrb_predict(img):\n",
    "    # get the predictions array\n",
    "    res = predict(qnn, img)\n",
    "    # return the index of the largest prediction, then use the\n",
    "    # classes array to map to a human-readable string\n",
    "    winner_ind = np.argmax(res)\n",
    "    winner_class = gtsrb_classes[winner_ind]\n",
    "    # the sum of the output values add up to 1 due to softmax,\n",
    "    # so we can interpret them as probabilities\n",
    "    winner_prob = 100 * res[winner_ind]\n",
    "    print(\"The QNN predicts this is a %s sign with %f percent probability\" % (winner_class, winner_prob))\n",
    "\n",
    "gtsrb_predict(img_50)\n",
    "gtsrb_predict(img_stop)\n",
    "gtsrb_predict(img_left)\n",
    "gtsrb_predict(img_right)"
   ]
  },
  {
   "cell_type": "markdown",
   "metadata": {},
   "source": [
    "Looks like it works fine! We'll now have a look at what's going inside, so let's get our showSrc function ready again."
   ]
  },
  {
   "cell_type": "code",
   "execution_count": 28,
   "metadata": {
    "collapsed": true
   },
   "outputs": [],
   "source": [
    "import inspect\n",
    "\n",
    "def showSrc(what):\n",
    "    print(\"\".join(inspect.getsourcelines(what)[0]))"
   ]
  },
  {
   "cell_type": "markdown",
   "metadata": {
    "collapsed": true
   },
   "source": [
    "## The Sliding Window Operator\n",
    "\n",
    "Before we start looking into how convolutional and pooling layers work, we will describe the *sliding window* operation. This operation is a key part of both convolutional and pooling layers, and its key principle is actually quite simple: it extracts a group of elements located next to each other from an array, then goes on to the next group of elements. The two key parameters for this operator are *window size*, which is how many elements there are in each window, and *stride*, which is how many elements the window moves at every step.\n",
    "\n",
    "The easiest way to exemplify it is on a 1D array:\n"
   ]
  },
  {
   "cell_type": "code",
   "execution_count": 29,
   "metadata": {},
   "outputs": [
    {
     "name": "stdout",
     "output_type": "stream",
     "text": [
      "Source array: \n",
      "[-3, -2, 1, 2, 3, 4]\n",
      "Sliding window with window size 2 and stride 1: \n",
      "[[-3, -2], [-2, 1], [1, 2], [2, 3], [3, 4]]\n",
      "Sliding window with window size 3 and stride 1: \n",
      "[[-3, -2, 1], [-2, 1, 2], [1, 2, 3], [2, 3, 4]]\n",
      "Sliding window with window size 2 and stride 2: \n",
      "[[-3, -2], [1, 2], [3, 4]]\n"
     ]
    }
   ],
   "source": [
    "def slidingwindow_1D(in_array, window_size, stride):\n",
    "    return [in_array[i:i+window_size] for i in range(0, len(in_array)-window_size+1, stride)]\n",
    "\n",
    "my_source_array = [-3, -2, 1, 2, 3, 4]\n",
    "print(\"Source array: \")\n",
    "print(my_source_array)\n",
    "print(\"Sliding window with window size 2 and stride 1: \")\n",
    "print(slidingwindow_1D(my_source_array, 2, 1))\n",
    "print(\"Sliding window with window size 3 and stride 1: \")\n",
    "print(slidingwindow_1D(my_source_array, 3, 1))\n",
    "print(\"Sliding window with window size 2 and stride 2: \")\n",
    "print(slidingwindow_1D(my_source_array, 2, 2))\n"
   ]
  },
  {
   "cell_type": "markdown",
   "metadata": {},
   "source": [
    "This can be generalized to two-, three- or n-dimensional arrays as well, and the window could potentially have a different size and stride along each dimension, but we'll stick to square windows and equal strides for now. \n",
    "\n",
    "For QNN convolutional and pooling layers, we will be using a premade function called **im2col**. This function operates on a multichannel (say, RGB) image, extracts image patches with a sliding window operator, and puts the results into a matrix. Let's first try it on a single-channel image:"
   ]
  },
  {
   "cell_type": "code",
   "execution_count": 30,
   "metadata": {},
   "outputs": [
    {
     "data": {
      "text/plain": [
       "array([[1, 2, 4, 5],\n",
       "       [2, 3, 5, 6],\n",
       "       [4, 5, 7, 8],\n",
       "       [5, 6, 8, 9]])"
      ]
     },
     "execution_count": 30,
     "metadata": {},
     "output_type": "execute_result"
    }
   ],
   "source": [
    "import numpy as np\n",
    "from QNN.im2col import im2col_indices\n",
    "# a single-channel image\n",
    "singlechan_img = [[\n",
    "    [1, 2, 3],\n",
    "    [4, 5, 6],\n",
    "    [7, 8, 9]\n",
    "]]\n",
    "# reshape as a 4D numpy array: (batchsize=1, channels=1, rows=3, cols=3)\n",
    "singlechan_img = np.asarray(singlechan_img).reshape((1, 1, 3, 3))\n",
    "# extract 2x2 regions with stride 1\n",
    "im2col_indices(singlechan_img, field_height=2, field_width=2, padding=0, stride_y=1, stride_x=1)"
   ]
  },
  {
   "cell_type": "markdown",
   "metadata": {},
   "source": [
    "Here you can see that each position of the window extracts a patch of the image, and puts that patch into a column of the matrix. For instance, the first window contains [[1, 2], [4, 5]] which is flattened into the first column [1, 2, 4, 5]. Then the window is moved one element to the right, and [[2, 3], [5, 6]] is extracted, and so on.\n",
    "\n",
    "What about multi-channel images? Let's define a two-channel image this time, with the second channel only containing negative values so we can easily tell them apart."
   ]
  },
  {
   "cell_type": "code",
   "execution_count": 31,
   "metadata": {},
   "outputs": [
    {
     "data": {
      "text/plain": [
       "array([[ 1,  2,  4,  5],\n",
       "       [ 2,  3,  5,  6],\n",
       "       [ 4,  5,  7,  8],\n",
       "       [ 5,  6,  8,  9],\n",
       "       [-1, -2, -4, -5],\n",
       "       [-2, -3, -5, -6],\n",
       "       [-4, -5, -7, -8],\n",
       "       [-5, -6, -8, -9]])"
      ]
     },
     "execution_count": 31,
     "metadata": {},
     "output_type": "execute_result"
    }
   ],
   "source": [
    "# a two-channel image\n",
    "twochan_img = [[\n",
    "    [1, 2, 3],\n",
    "    [4, 5, 6],\n",
    "    [7, 8, 9]\n",
    "],[\n",
    "    [-1, -2, -3],\n",
    "    [-4, -5, -6],\n",
    "    [-7, -8, -9]\n",
    "]]\n",
    "# reshape as a 4D numpy array: (batchsize=1, channels=2, rows=3, cols=3)\n",
    "twochan_img = np.asarray(twochan_img).reshape((1, 2, 3, 3))\n",
    "# extract 2x2 regions with stride 1\n",
    "im2col_indices(twochan_img, field_height=2, field_width=2, padding=0, stride_y=1, stride_x=1)"
   ]
  },
  {
   "cell_type": "markdown",
   "metadata": {},
   "source": [
    "Here we can see that each column first contains the patch from the first channel, then the patch from the second channel. That's it for the sliding window operator! Now we can move on to how this is actually used inside the new layers."
   ]
  },
  {
   "cell_type": "markdown",
   "metadata": {},
   "source": [
    "## Convolutional Layers\n",
    "\n",
    "We can now examine how the convolutions work. Althrough there are more \"direct\" ways of implementing a convolutional layer, we will focus on the so-called \"convolution lowering\" approach here, which is just a sliding window operation followed by matrix-matrix multiplication. This is somewhat similar to the fully-connected layers from the previous sections, with two key differences:\n",
    "\n",
    "1. The input activations in convolutional layers are first passed through a sliding window operator, as opposed to multiplying directly as a vector in fully-connected layers.\n",
    "2. The operation in convolutional layers is a matrix-matrix multiply, as opposed to matrix-vector multiply in fully-connected layers.\n",
    "\n",
    "To see that this is indeed the case, let's have a look at how **QNNConvolutionLayer** is implemented."
   ]
  },
  {
   "cell_type": "code",
   "execution_count": 32,
   "metadata": {},
   "outputs": [
    {
     "name": "stdout",
     "output_type": "stream",
     "text": [
      "class QNNConvolutionLayer(QNNLayer):\n",
      "    \"Convolution via im2col and matrix-matrix multiplication\"\n",
      "    def __init__(self, W, inDim, pad, stride, padVal=0):\n",
      "        self.ofm = W.shape[0] # number of output channels\n",
      "        self.ifm = W.shape[1] # number of input channels\n",
      "        self.k = W.shape[2]   # kernel (window) dimension\n",
      "        self.idim = inDim     # input image dimension\n",
      "        self.padded_idim = inDim + 2*pad  # input image dimension including padding\n",
      "        self.odim = ((self.padded_idim - self.k) / stride) + 1  # output image dimension\n",
      "        self.stride = stride  # stride for sliding window\n",
      "        self.pad = pad        # number of padding pixels to add on each edge\n",
      "        self.padVal = padVal  # value of padding pixels\n",
      "        if(W.shape[2] != W.shape[3]):\n",
      "            raise Exception(\"Only square conv filters supported for now\")\n",
      "        # instantiate internal layer components\n",
      "        self.layers = []\n",
      "        # add a padding layer, if padding is required\n",
      "        if pad != 0:\n",
      "            self.layers += [QNNPaddingLayer(self.idim, self.ifm, pad, padVal)]\n",
      "        # add the sliding window layer\n",
      "        self.layers += [QNNSlidingWindowLayer(self.padded_idim, self.ifm, self.k, self.stride)]\n",
      "        # convert the kernel tensor to a matrix:\n",
      "        # [ofm][ifm][k][k] to [ofm][ifm*k*k]\n",
      "        self.W = W.reshape((self.ofm, self.ifm*self.k*self.k))\n",
      "\n",
      "    def execute(self, v):\n",
      "        # execute internal padding/sliding window layers first\n",
      "        vn = v\n",
      "        for l in self.layers:\n",
      "            vn = l.execute(vn)\n",
      "        # reconstruct image matrix\n",
      "        vn = vn.reshape((self.ifm*self.k*self.k, self.odim*self.odim))\n",
      "        # matrix-matrix multiply\n",
      "        res = np.dot(self.W, vn)\n",
      "        return res.flatten()\n",
      "\n"
     ]
    }
   ],
   "source": [
    "showSrc(QNNConvolutionLayer)"
   ]
  },
  {
   "cell_type": "markdown",
   "metadata": {},
   "source": [
    "There's a bit of unusual stuff going on in the constructor, so let's go over that first. Namely, besides the computation to determine the size of the outputs, this layer can actually contain another (potentially two) layers: **QNNPaddingLayer** and **QNNSlidingWindowLayer**. In the **execute()** call you can see that the input is first passed through these layers before performing the matrix multiply, so let's start by looking at what happens inside a **QNNPaddingLayer**."
   ]
  },
  {
   "cell_type": "code",
   "execution_count": 33,
   "metadata": {},
   "outputs": [
    {
     "name": "stdout",
     "output_type": "stream",
     "text": [
      "class QNNPaddingLayer(QNNLayer):\n",
      "    \"A layer that adds padding around the edges of the image.\"\n",
      "    def __init__(self, inDim, inChans, padCount, padVal):\n",
      "        self.dim = inDim          # input image dimension\n",
      "        self.chans = inChans      # number of input channels\n",
      "        self.padCount = padCount  # number of pixels to add on each edge\n",
      "        self.padVal = padVal      # value of pixels to be added to each edge\n",
      "\n",
      "    def execute(self, v):\n",
      "        img = v.reshape((self.chans, self.dim, self.dim))\n",
      "        padCounts = ((0, 0),\n",
      "                     (self.padCount, self.padCount),\n",
      "                     (self.padCount, self.padCount))\n",
      "        img = np.pad(img, padCounts, \"constant\", constant_values=self.padVal)\n",
      "        return img.flatten()\n",
      "\n"
     ]
    }
   ],
   "source": [
    "showSrc(QNNPaddingLayer)"
   ]
  },
  {
   "cell_type": "markdown",
   "metadata": {},
   "source": [
    "So what the padding layer does is to add padding pixels to the edges of the image. Padding is actually not used in our example network, but is commonly used to increase the accuracy via less information loss on border pixels. \n",
    "\n",
    "> **Aside: Padding in binarized networks.** Zero is almost universally used as the padding value, but what if we have binarized activations that can only represent -1 and +1? It turns out that it works just fine to train networks that use -1 as the padding value, as reported in [this article](https://arxiv.org/pdf/1701.03400.pdf).\n",
    "\n",
    "We can set up a toy example to see what padding looks like in practice."
   ]
  },
  {
   "cell_type": "code",
   "execution_count": 34,
   "metadata": {},
   "outputs": [
    {
     "name": "stdout",
     "output_type": "stream",
     "text": [
      "Before padding:\n",
      "[[1 2 3]\n",
      " [4 5 6]\n",
      " [7 8 9]]\n",
      "After padding:\n",
      "[[0 0 0 0 0]\n",
      " [0 1 2 3 0]\n",
      " [0 4 5 6 0]\n",
      " [0 7 8 9 0]\n",
      " [0 0 0 0 0]]\n"
     ]
    }
   ],
   "source": [
    "toy_padding_layer = QNNPaddingLayer(3, 1, 1, 0)\n",
    "toy_padding_in = np.asarray([\n",
    "    [1, 2, 3],\n",
    "    [4, 5, 6],\n",
    "    [7, 8, 9]\n",
    "])\n",
    "print(\"Before padding:\")\n",
    "print(toy_padding_in)\n",
    "toy_padding_out = toy_padding_layer.execute(toy_padding_in.flatten())\n",
    "print(\"After padding:\")\n",
    "print(toy_padding_out.reshape(5, 5))"
   ]
  },
  {
   "cell_type": "markdown",
   "metadata": {},
   "source": [
    "What about **QNNSlidingWindowLayer**? You guessed right -- it just calls the sliding window operator (im2col)."
   ]
  },
  {
   "cell_type": "code",
   "execution_count": 35,
   "metadata": {},
   "outputs": [
    {
     "name": "stdout",
     "output_type": "stream",
     "text": [
      "class QNNSlidingWindowLayer(QNNLayer):\n",
      "    \"Slide a window over a multichannel image (im2col)\"\n",
      "    def __init__(self, inDim, inChans, windowDim, stride=1):\n",
      "        self.idim = inDim     # input image dimension\n",
      "        self.chans = inChans  # channels in input image\n",
      "        self.k = windowDim    # window size\n",
      "        self.s = stride       # stride for next window\n",
      "\n",
      "    def execute(self, v):\n",
      "        # reshape the input vector into a 2D image\n",
      "        img = v.reshape((1, self.chans, self.idim, self.idim))\n",
      "        # call im2col to get the sliding window result\n",
      "        res = im2col_indices(img, self.k, self.k, padding=0,\n",
      "                            stride_y=self.s, stride_x=self.s)\n",
      "        return res.flatten()\n",
      "\n"
     ]
    }
   ],
   "source": [
    "showSrc(QNNSlidingWindowLayer)"
   ]
  },
  {
   "cell_type": "markdown",
   "metadata": {},
   "source": [
    "Having gone through the \"internal\" layers inside the convolutional layer, let's get back to the **execute()** call itself. The padding and sliding window layers are used to create the right-hand side matrix that we are multiplying with. What about the weight matrix though? What does that look like?"
   ]
  },
  {
   "cell_type": "code",
   "execution_count": 36,
   "metadata": {},
   "outputs": [
    {
     "name": "stdout",
     "output_type": "stream",
     "text": [
      "    def execute(self, v):\n",
      "        # execute internal padding/sliding window layers first\n",
      "        vn = v\n",
      "        for l in self.layers:\n",
      "            vn = l.execute(vn)\n",
      "        # reconstruct image matrix\n",
      "        vn = vn.reshape((self.ifm*self.k*self.k, self.odim*self.odim))\n",
      "        # matrix-matrix multiply\n",
      "        res = np.dot(self.W, vn)\n",
      "        return res.flatten()\n",
      "\n",
      "Weight matrix shape for first conv layer: (20, 75)\n",
      "First row of weight matrix for first conv layer: \n",
      "[ 1.  1.  1.  1.  1. -1. -1. -1. -1.  1. -1. -1. -1. -1. -1. -1.  1.  1.\n",
      "  1.  1.  1.  1.  1.  1.  1. -1.  1.  1. -1.  1. -1. -1. -1. -1. -1. -1.\n",
      " -1. -1. -1. -1.  1.  1.  1.  1. -1.  1.  1.  1.  1.  1.  1. -1. -1. -1.\n",
      "  1. -1. -1. -1. -1. -1. -1. -1. -1. -1. -1.  1.  1.  1. -1. -1.  1.  1.\n",
      "  1.  1. -1.]\n"
     ]
    }
   ],
   "source": [
    "showSrc(QNNConvolutionLayer.execute)\n",
    "print(\"Weight matrix shape for first conv layer: \" + str(qnn[0].W.shape))\n",
    "print(\"First row of weight matrix for first conv layer: \")\n",
    "print(qnn[0].W[0])"
   ]
  },
  {
   "cell_type": "markdown",
   "metadata": {},
   "source": [
    "As you can see, even though the operation we are doing it slightly different from the previous sections (matrix-matrix instead of matrix-vector), the weight matrix itself still only contains -1 and +1 values.\n",
    "\n",
    "That's about it for convolutional layers. Although the procedure itself is straightforward, understanding all the details involved in what data goes where, and gets multiplied with what, can take a bit of time. To help you better understand this, here is a figure illustrating what a lowered convolution looks like, taken from [this article](https://arxiv.org/pdf/1410.0759.pdf):\n",
    "![Convolution lowering](conv-lowering-chetlur.png)\n",
    "\n",
    "Some extra pointers to help you better understand what this image is trying to describe:\n",
    "* The input activation (labeled \"Image Data\") is a three-channel (represented by red, green, blue) image\n",
    "* A 2x2 sliding window is used to create the image matrix on the top right.\n",
    "* The image matrix has (k * k * input channels) rows and (number of output pixels) columns.\n",
    "* The \"filter data\" comes from the neural network training. Each filter has the same size as the sliding window (2x2).\n",
    "* A different filter connects each output channel to each input channel. There are 3 input channels and 2 output channels here, so there are 6 different filters. Results for the filters that correspond to the same output channels are summed together (i.e. those values are in the same row of the matrix). Here, all the F filters are used to compute the first output channel, and all the G filters are used to compute the second output channel.\n",
    "* The filters are \"flattened\" together to create the weight matrix on the lower left. The weight matrix has one row per output channel, and (k * k * input channels) columns.\n",
    "* The output matrix (the yellow matrix on the bottom right) is obtained by multiplying the weight matrix with the image matrix. It has one row per output channel, and (number of output pixels) columns."
   ]
  },
  {
   "cell_type": "markdown",
   "metadata": {},
   "source": [
    "## Pooling Layers\n",
    "\n",
    "As you may recall, we have *activations* that are passed between the different layers of the neural network. Pooling layers are a way of making activations smaller (fewer elements) by focusing on the \"important features\" of the data before passing it onto the next layer, thus resulting in much less compute. Pooling is essentially a sliding window operation followed by a *reduction function*, a function that generates a single output from multiple input elements. The most common form of pooling is *max pooling*, which just extracts the maximum-valued element from each window, as shown in this image from the Stanford CS231n course notes:\n",
    "\n",
    "![Max Pool](http://cs231n.github.io/assets/cnn/maxpool.jpeg)\n",
    "\n",
    "Let's have a peek at how this is implemented in the QNNPoolingLayer class:"
   ]
  },
  {
   "cell_type": "code",
   "execution_count": 37,
   "metadata": {},
   "outputs": [
    {
     "name": "stdout",
     "output_type": "stream",
     "text": [
      "class QNNPoolingLayer(QNNLayer):\n",
      "    \"Perform either max or average pooling.\"\n",
      "    def __init__(self, inDim, inChans, poolSize, strideSize, poolFxn = \"MAX\"):\n",
      "        self.idim = inDim\n",
      "        self.chans = inChans\n",
      "        self.k = poolSize\n",
      "        self.s = strideSize\n",
      "        self.odim = ((self.idim - self.k) / self.s) + 1\n",
      "        self.poolFxn = poolFxn\n",
      "\n",
      "    def execute(self, v):\n",
      "        img = v.reshape((self.chans, self.idim, self.idim))\n",
      "        out_img = np.zeros((self.chans, self.odim*self.odim), dtype=np.float32)\n",
      "        for c in range(self.chans):\n",
      "            chan_img = img[c].reshape((1, 1, self.idim, self.idim))\n",
      "            # extract parts of image with sliding window\n",
      "            wnd = im2col_indices(chan_img, self.k, self.k, padding=0,\n",
      "            stride_y=self.s, stride_x=self.s)\n",
      "            # each window is a column -- get the reduction along columns\n",
      "            if self.poolFxn == \"MAX\":\n",
      "                out_img[c]=wnd.max(axis = 0).flatten()\n",
      "            elif self.poolFxn == \"AVE\":\n",
      "                out_img[c]=wnd.mean(axis = 0).flatten()\n",
      "            else:\n",
      "                raise Exception(\"Unsupported pooling function\")\n",
      "        return out_img.flatten()\n",
      "\n"
     ]
    }
   ],
   "source": [
    "showSrc(QNNPoolingLayer)"
   ]
  },
  {
   "cell_type": "markdown",
   "metadata": {},
   "source": [
    "Here we can see that it is indeed just the sliding window operation followed by either maximum or averaging. One important thing to note here is that each channel is pooled within itself, e.g. we do not compare pixels *between* channel 0 and channel 1 to pick up the maximum when doing max pooling."
   ]
  },
  {
   "cell_type": "code",
   "execution_count": 38,
   "metadata": {},
   "outputs": [
    {
     "name": "stdout",
     "output_type": "stream",
     "text": [
      "Pooling layer window size is 2, stride is 2, pooling function is MAX\n",
      "Pooling operates on 20 channels, input dimension 28, output dimension 14\n",
      "Activation elements before pooling: (15680,)\n",
      "Activation elements after pooling: (3920,)\n"
     ]
    }
   ],
   "source": [
    "before_pool = predict(qnn[:2], img_50)\n",
    "after_pool = predict(qnn[:3], img_50)\n",
    "print(\"Pooling layer window size is %d, stride is %d, pooling function is %s\" % (qnn[2].k, qnn[2].s, qnn[2].poolFxn))\n",
    "print(\"Pooling operates on %d channels, input dimension %d, output dimension %d\" % (qnn[2].chans, qnn[2].idim, qnn[2].odim))\n",
    "print(\"Activation elements before pooling: \" + str(before_pool.shape))\n",
    "print(\"Activation elements after pooling: \" + str(after_pool.shape))"
   ]
  },
  {
   "cell_type": "markdown",
   "metadata": {},
   "source": [
    "So we can see that the number of activation elements went down by 4x (2x along each axis). You may be wondering what happened to activations being images? The vectors we obtained are 1D vectors, and there is no channel/rows/columns information visible in the shape. This is an assumption about how data is to be passed between layers in this implementation -- all passed arrays are supposed to be flat. We can actually see how the **QNNPoolingLayer** actually reshapes the input activations into images in the first line of **QNNPoolingLayer.execute**. We can do the same manually to examine what the pre- and post-pooling activations looke like."
   ]
  },
  {
   "cell_type": "code",
   "execution_count": 39,
   "metadata": {},
   "outputs": [
    {
     "data": {
      "text/plain": [
       "<matplotlib.text.Text at 0x7f2c26e28950>"
      ]
     },
     "execution_count": 39,
     "metadata": {},
     "output_type": "execute_result"
    },
    {
     "data": {
      "image/png": "[encoded data removed]",
      "text/plain": [
       "<matplotlib.figure.Figure at 0x7f2c27101b50>"
      ]
     },
     "metadata": {},
     "output_type": "display_data"
    }
   ],
   "source": [
    "import matplotlib.pyplot as plt\n",
    "\n",
    "# reshape activations as images\n",
    "before_pool = before_pool.reshape((20, 28, 28))\n",
    "after_pool = after_pool.reshape((20, 14, 14))\n",
    "# display the 3rd channel\n",
    "% matplotlib inline\n",
    "fig = plt.figure()\n",
    "a=fig.add_subplot(1,2,1)\n",
    "imgplot = plt.imshow(before_pool[2], cmap='gray')\n",
    "a.set_title('Before pooling')\n",
    "\n",
    "a=fig.add_subplot(1,2,2)\n",
    "imgplot = plt.imshow(after_pool[2], cmap='gray')\n",
    "imgplot.set_clim(0.0,0.7)\n",
    "a.set_title('After pooling')"
   ]
  },
  {
   "cell_type": "markdown",
   "metadata": {},
   "source": [
    "You can actually still see the circular border and 50 in the pre-pooling activations. It is also worth mentioning that since the network we are looking at is still a binarized one, the activations are also still only -1 and +1s. \n",
    "\n",
    "> **Aside: OR maxpooling for binarized networks.** For QNNs using binary activations with a 0-bit encoding a -1 and a 1-bit encoding a +1, the max pooling reduction can be simply performed by taking the binary OR of all bits in the window."
   ]
  },
  {
   "cell_type": "code",
   "execution_count": 40,
   "metadata": {
    "scrolled": true
   },
   "outputs": [
    {
     "name": "stdout",
     "output_type": "stream",
     "text": [
      "[[-1. -1. -1. -1.  1.  1.  1.  1.  1.  1.  1.  1.  1.  1.]\n",
      " [ 1.  1.  1.  1.  1.  1. -1. -1. -1. -1.  1.  1.  1. -1.]\n",
      " [-1.  1.  1. -1. -1.  1.  1.  1.  1.  1.  1. -1.  1.  1.]\n",
      " [ 1.  1.  1.  1.  1.  1.  1.  1.  1.  1.  1.  1. -1.  1.]\n",
      " [ 1.  1.  1.  1.  1. -1. -1. -1. -1. -1. -1.  1.  1. -1.]\n",
      " [-1. -1. -1. -1.  1.  1.  1.  1.  1.  1.  1.  1.  1.  1.]\n",
      " [ 1.  1. -1. -1.  1.  1. -1. -1. -1.  1.  1.  1.  1. -1.]\n",
      " [ 1.  1. -1. -1.  1.  1.  1.  1. -1. -1. -1. -1.  1. -1.]\n",
      " [ 1.  1.  1. -1. -1. -1. -1. -1. -1. -1. -1. -1. -1. -1.]\n",
      " [-1.  1.  1. -1.  1.  1.  1.  1.  1.  1.  1.  1.  1.  1.]\n",
      " [ 1. -1.  1.  1. -1.  1.  1.  1.  1.  1.  1.  1.  1.  1.]\n",
      " [ 1.  1.  1.  1.  1.  1. -1. -1. -1. -1. -1.  1.  1.  1.]\n",
      " [ 1.  1.  1.  1.  1.  1.  1.  1.  1.  1.  1.  1.  1.  1.]\n",
      " [ 1. -1.  1.  1. -1.  1.  1.  1.  1.  1.  1. -1.  1.  1.]]\n"
     ]
    }
   ],
   "source": [
    "print(after_pool[3])"
   ]
  },
  {
   "cell_type": "markdown",
   "metadata": {
    "collapsed": true
   },
   "source": [
    "## A Look at Layer Patterns and Precision\n",
    "\n",
    "Now that we have covered the new layer types, we can zoom out a little and examine the layerwise structure of our network."
   ]
  },
  {
   "cell_type": "code",
   "execution_count": 41,
   "metadata": {},
   "outputs": [
    {
     "data": {
      "text/plain": [
       "[<QNN.layers.QNNConvolutionLayer at 0x7f2c27104890>,\n",
       " <QNN.layers.QNNBipolarThresholdingLayer at 0x7f2c271047d0>,\n",
       " <QNN.layers.QNNPoolingLayer at 0x7f2c27104950>,\n",
       " <QNN.layers.QNNConvolutionLayer at 0x7f2c27104990>,\n",
       " <QNN.layers.QNNBipolarThresholdingLayer at 0x7f2c27104a10>,\n",
       " <QNN.layers.QNNPoolingLayer at 0x7f2c271048d0>,\n",
       " <QNN.layers.QNNFullyConnectedLayer at 0x7f2c27101a50>,\n",
       " <QNN.layers.QNNScaleShiftLayer at 0x7f2c27101790>,\n",
       " <QNN.layers.QNNSoftmaxLayer at 0x7f2c271017d0>]"
      ]
     },
     "execution_count": 41,
     "metadata": {},
     "output_type": "execute_result"
    }
   ],
   "source": [
    "qnn"
   ]
  },
  {
   "cell_type": "markdown",
   "metadata": {},
   "source": [
    "We can see that our network contains a layer pattern in the first part -- a convolution, bipolar thresholding, pooling combination that repeats twice. This is followed by a fully connected layer (with no activation/thresholding) and a scaling layer, just as it was for the networks in the previous sections.\n",
    "\n",
    "One difference you may have noticed from the previous networks might be at the very beginning -- the previous ones we've covered started with thresholding layers, whereas this network starts directly with a convolutional layer. In other words, *the inputs to the first convolutional layer are not quantized*. Perhaps you have already guessed why: as we have color images, simply turning all pictures into \"black and white\" by quantization may make them unrecognizable, even for the human eye. This is why QNNs typically use higher-precision activations (and sometimes weights) in the first layer.\n",
    "\n",
    "So what happened to *quantized* neural networks? Fear not, for this is actually still a QNN! In almost all cases for image recognition, the inputs to the first layer are *already quantized* due to the way computers store pictures. Most of the time, including for our test cases here, you can assume that the value of each pixel in each channel will be at most 8-bit unsigned integers, that is to say, between 0 and 255. We can check this by looking at the pixel values for one of our test inputs:"
   ]
  },
  {
   "cell_type": "code",
   "execution_count": 42,
   "metadata": {},
   "outputs": [
    {
     "name": "stdout",
     "output_type": "stream",
     "text": [
      "Minimum and maximum pixel values for test image: 39, 255\n",
      "[[[ 71  85 242 ...,  91  91  77]\n",
      "  [121 138 188 ...,  95 111  55]\n",
      "  [221 218 160 ...,  62  94 110]\n",
      "  ..., \n",
      "  [121 133 178 ..., 176 183 122]\n",
      "  [148 116 111 ..., 183 150 106]\n",
      "  [135 134 154 ..., 152 146 106]]\n",
      "\n",
      " [[ 94 107 255 ...,  84  82  74]\n",
      "  [145 161 205 ...,  90 106  57]\n",
      "  [253 249 179 ...,  66 100 129]\n",
      "  ..., \n",
      "  [160 173 221 ..., 218 233 176]\n",
      "  [186 155 153 ..., 229 203 161]\n",
      "  [169 171 194 ..., 203 202 162]]\n",
      "\n",
      " [[ 72  88 246 ...,  75  78  83]\n",
      "  [127 146 196 ...,  81 103  65]\n",
      "  [252 248 184 ...,  60  99 137]\n",
      "  ..., \n",
      "  [192 201 242 ..., 217 239 193]\n",
      "  [220 187 176 ..., 230 213 188]\n",
      "  [205 205 219 ..., 206 219 197]]]\n"
     ]
    }
   ],
   "source": [
    "print(\"Minimum and maximum pixel values for test image: %d, %d\" % (np.min(img_50), np.max(img_50)))\n",
    "print(img_50)"
   ]
  },
  {
   "cell_type": "markdown",
   "metadata": {},
   "source": [
    "After the first convolutional layer, the bipolar thresholding layer will make sure that the activations are going into the second convolutional layer will be 1-bit, so things are back to normal. This means we have a mix of layers that are using different precisions. We will call such networks *heterogeneous QNNs*, while networks that we saw in the previous sections always used the same precision and were *homogeneous QNNs*.\n",
    "\n",
    "That's it for this section! The next section of the tutorial will cover image classification on ImageNet, which is a large and challenging dataset with a thousand classes. Even though the network will be much bigger, the kinds of computations we will be doing are going to be almost exactly the same as this section!"
   ]
  },
  {
   "cell_type": "code",
   "execution_count": null,
   "metadata": {
    "collapsed": true
   },
   "outputs": [],
   "source": []
  }
 ],
 "metadata": {
  "kernelspec": {
   "display_name": "Python 2",
   "language": "python",
   "name": "python2"
  },
  "language_info": {
   "codemirror_mode": {
    "name": "ipython",
    "version": 2
   },
   "file_extension": ".py",
   "mimetype": "text/x-python",
   "name": "python",
   "nbconvert_exporter": "python",
   "pygments_lexer": "ipython2",
   "version": "2.7.12"
  }
 },
 "nbformat": 4,
 "nbformat_minor": 2
}
